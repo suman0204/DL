{
 "cells": [
  {
   "cell_type": "markdown",
   "metadata": {},
   "source": [
    "\n",
    "<h1 id=\"Load-packages\">Load packages<a class=\"anchor-link\" href=\"#Load-packages\">¶</a></h1>\n"
   ]
  },
  {
   "cell_type": "code",
   "execution_count": 1,
   "metadata": {
    "collapsed": true
   },
   "outputs": [],
   "source": [
    "\n",
    "import torch\n",
    "import torch.nn as nn\n",
    "import torchvision.datasets as dset\n",
    "import torchvision.transforms as transforms\n",
    "from torch.utils.data import  DataLoader\n",
    "from torch.autograd import Variable\n",
    "import matplotlib.pyplot as plt\n",
    "%matplotlib inline\n",
    "\n"
   ]
  },
  {
   "cell_type": "markdown",
   "metadata": {},
   "source": [
    "\n",
    "<h1 id=\"MNIST-train,-test-dataset-가져오기\">MNIST train, test dataset 가져오기<a class=\"anchor-link\" href=\"#MNIST-train,-test-dataset-가져오기\">¶</a></h1>\n"
   ]
  },
  {
   "cell_type": "code",
   "execution_count": 2,
   "metadata": {
    "collapsed": true
   },
   "outputs": [],
   "source": [
    "\n",
    "# \"\": 현재 폴더에 MINIST 있음\n",
    "mnist_train=dset.MNIST(\"\", train=True, transform=transforms.ToTensor(), #train 용으로 쓰겠다.\n",
    "                      target_transform=None, download=True)\n",
    "mnist_test=dset.MNIST(\"\",train=False,transform=transforms.ToTensor(), #test 용으로 쓰겠다\n",
    "                      target_transform=None, download=True)\n",
    "\n"
   ]
  },
  {
   "cell_type": "markdown",
   "metadata": {},
   "source": [
    "\n",
    "<h1 id=\"대략적인-데이터-형태\">대략적인 데이터 형태<a class=\"anchor-link\" href=\"#대략적인-데이터-형태\">¶</a></h1>\n"
   ]
  },
  {
   "cell_type": "code",
   "execution_count": 3,
   "metadata": {},
   "outputs": [
    {
     "ename": "SyntaxError",
     "evalue": "invalid syntax (<ipython-input-3-2197e03f1970>, line 2)",
     "output_type": "error",
     "traceback": [
      "\u001b[1;36m  File \u001b[1;32m\"<ipython-input-3-2197e03f1970>\"\u001b[1;36m, line \u001b[1;32m2\u001b[0m\n\u001b[1;33m    print \"mnist_train 길이:\", len(mnist_train)\u001b[0m\n\u001b[1;37m                          ^\u001b[0m\n\u001b[1;31mSyntaxError\u001b[0m\u001b[1;31m:\u001b[0m invalid syntax\n"
     ]
    }
   ],
   "source": [
    "\n",
    "print \"mnist_train 길이:\", len(mnist_train)\n",
    "print \"mnist_test 길이: \", len(mnist_test)\n",
    "\n",
    "# 데이터 하나 형태\n",
    "image, label = mnist_train.__getitem__(0) #0번째 데이터\n",
    "print \"image data 형태: \", image.size()\n",
    "print \"label:\", label\n",
    "\n",
    "#그리기\n",
    "img = image.numpy() #image 타입을 numpy로 변환 (1,28,28)\n",
    "plt.title(\"label: %d\" %label)\n",
    "plt.imshow(img[0], cmap='gray')\n",
    "plt.show()\n",
    "\n"
   ]
  },
  {
   "cell_type": "markdown",
   "metadata": {},
   "source": [
    "\n",
    "<h1 id=\"MNIST-data-띄워보기\">MNIST data 띄워보기<a class=\"anchor-link\" href=\"#MNIST-data-띄워보기\">¶</a></h1>\n"
   ]
  },
  {
   "cell_type": "code",
   "execution_count": 4,
   "metadata": {},
   "outputs": [
    {
     "name": "stdout",
     "output_type": "stream",
     "text": [
      "5\n",
      "torch.Size([1, 28, 28])\n",
      "5\n"
     ]
    },
    {
     "data": {
      "image/png": "[encoded data removed]",
      "text/plain": [
       "<matplotlib.figure.Figure at 0x25a2e7dabe0>"
      ]
     },
     "metadata": {},
     "output_type": "display_data"
    },
    {
     "name": "stdout",
     "output_type": "stream",
     "text": [
      "0\n"
     ]
    },
    {
     "data": {
      "image/png": "[encoded data removed]",
      "text/plain": [
       "<matplotlib.figure.Figure at 0x25a2e8fd898>"
      ]
     },
     "metadata": {},
     "output_type": "display_data"
    },
    {
     "name": "stdout",
     "output_type": "stream",
     "text": [
      "4\n"
     ]
    },
    {
     "data": {
      "image/png": "[encoded data removed]",
      "text/plain": [
       "<matplotlib.figure.Figure at 0x25a2eb04c18>"
      ]
     },
     "metadata": {},
     "output_type": "display_data"
    }
   ],
   "source": [
    "\n",
    "print(mnist_train[0][1]) # label\n",
    "print(mnist_train[0][0].size()) # image\n",
    "\n",
    "for i in range(3):\n",
    "    img=mnist_train[i][0].numpy()\n",
    "    print(mnist_train[i][1])\n",
    "    plt.imshow(img[0],cmap='gray')\n",
    "    plt.show()\n",
    "\n"
   ]
  },
  {
   "cell_type": "markdown",
   "metadata": {},
   "source": [
    "\n",
    "<h1 id=\"convolution-하나-씌워보기\">convolution 하나 씌워보기<a class=\"anchor-link\" href=\"#convolution-하나-씌워보기\">¶</a></h1>\n"
   ]
  },
  {
   "cell_type": "code",
   "execution_count": 6,
   "metadata": {},
   "outputs": [
    {
     "name": "stdout",
     "output_type": "stream",
     "text": [
      "torch.Size([1, 1, 28, 28])\n",
      "5\n",
      "torch.Size([1, 3, 28, 28])\n"
     ]
    },
    {
     "data": {
      "image/png": "[encoded data removed]",
      "text/plain": [
       "<matplotlib.figure.Figure at 0x25a2eaca518>"
      ]
     },
     "metadata": {},
     "output_type": "display_data"
    },
    {
     "data": {
      "image/png": "[encoded data removed]",
      "text/plain": [
       "<matplotlib.figure.Figure at 0x25a2ec0a780>"
      ]
     },
     "metadata": {},
     "output_type": "display_data"
    },
    {
     "data": {
      "image/png": "[encoded data removed]",
      "text/plain": [
       "<matplotlib.figure.Figure at 0x25a2ec5bcf8>"
      ]
     },
     "metadata": {},
     "output_type": "display_data"
    }
   ],
   "source": [
    "\n",
    "# mnist 의 첫 번째 이미지, 라벨 가져오기\n",
    "image, label = mnist_train[0]\n",
    "# view: tensor 의 사이즈 조절. -1: 해당 차원 확장시켜라\n",
    "# [1, 28, 28] -> [1. 1. 28.28]\n",
    "image=image.view(-1, image.size()[0], image.size()[1], image.size()[2])\n",
    "print(image.size())\n",
    "\n",
    "print(label)\n",
    "\n",
    "# convolutional filter 정의\n",
    "conv_layer=nn.Conv2d(in_channels=1, out_channels=3, kernel_size=3, padding=1)\n",
    "# image 에 filter 적용\n",
    "output=conv_layer(Variable(image))\n",
    "print(output.size())\n",
    "\n",
    "for i in range(3):\n",
    "    plt.imshow(output[0,i,:,:].data.numpy(), cmap='gray')\n",
    "    plt.show()\n",
    "\n"
   ]
  },
  {
   "cell_type": "markdown",
   "metadata": {},
   "source": [
    "\n",
    "<h1 id=\"CNN-만들기\">CNN 만들기<a class=\"anchor-link\" href=\"#CNN-만들기\">¶</a></h1><h3 id=\"train,-test-data-가져오기\">train, test data 가져오기<a class=\"anchor-link\" href=\"#train,-test-data-가져오기\">¶</a></h3>\n"
   ]
  },
  {
   "cell_type": "code",
   "execution_count": 7,
   "metadata": {
    "collapsed": true
   },
   "outputs": [],
   "source": [
    "\n",
    "import numpy as np\n",
    "import torch.optim as optim\n",
    "\n",
    "batch_size = 16\n",
    "learning_rate = 0.0002\n",
    "num_epoch = 10 # 1000\n",
    "\n"
   ]
  },
  {
   "cell_type": "code",
   "execution_count": 8,
   "metadata": {
    "collapsed": true
   },
   "outputs": [],
   "source": [
    "\n",
    "# 후에 학습시킬 때 batch_size 단위로 학습시켜나감\n",
    "train_loader = torch.utils.data.DataLoader(list(mnist_train)[:batch_size*100], batch_size=batch_size,    # mnist_train 를 트레인 시키자\n",
    "                                          shuffle=True, num_workers=2,\n",
    "                                          drop_last=True) # batch_size 만큼 나눌 때 나머지는 버려라\n",
    "test_loader = torch.utils.data.DataLoader((mnist_test), batch_size=batch_size,\n",
    "                                         shuffle=False, num_workers=2,\n",
    "                                         drop_last=True)\n",
    "\n"
   ]
  },
  {
   "cell_type": "code",
   "execution_count": 9,
   "metadata": {
    "collapsed": true
   },
   "outputs": [],
   "source": [
    "\n",
    "class CNN(nn.Module):  # nn.Module 상속받음\n",
    "    def __init__(self):\n",
    "        super(CNN,self).__init__()  # 28 x 28\n",
    "        self.layer=nn.Sequential(\n",
    "            nn.Conv2d(1,16,5,padding=2),\n",
    "            nn.ReLU(),\n",
    "            \n",
    "            nn.Conv2d(16,32,3,padding=2), # 28 x 28\n",
    "            nn.ReLU(),\n",
    "            nn.MaxPool2d(2,2), # 28 x 28 -> 14 x 14\n",
    "            \n",
    "            nn.Conv2d(32,64,5,padding=2),  # 14 x 14\n",
    "            nn.ReLU(),\n",
    "            nn.MaxPool2d(2,2) # 14 x 14 -> 7 x 7\n",
    "        )\n",
    "        self.fc_layer=nn.Sequential(\n",
    "            nn.Linear(64*7*7,100),\n",
    "            nn.ReLU(),\n",
    "            nn.Linear(100,10)\n",
    "        )\n",
    "\n",
    "        \n",
    "    def forward(self,x):\n",
    "        out=self.layer(x)\n",
    "        out=out.view(batch_size,-1)\n",
    "        out=self.fc_layer(out)\n",
    "        return out\n",
    "\n",
    "model=CNN() #.cuda()\n",
    "\n"
   ]
  },
  {
   "cell_type": "code",
   "execution_count": 10,
   "metadata": {},
   "outputs": [
    {
     "name": "stdout",
     "output_type": "stream",
     "text": [
      "torch.Size([16, 1, 5, 5])\n",
      "torch.Size([16])\n",
      "torch.Size([32, 16, 3, 3])\n",
      "torch.Size([32])\n",
      "torch.Size([64, 32, 5, 5])\n",
      "torch.Size([64])\n",
      "torch.Size([100, 3136])\n",
      "torch.Size([100])\n",
      "torch.Size([10, 100])\n",
      "torch.Size([10])\n"
     ]
    }
   ],
   "source": [
    "\n",
    "# 파라미터 체크하기\n",
    "for parameter in model.parameters():\n",
    "    #print(parameter)\n",
    "    print(parameter.shape)\n",
    "\n"
   ]
  },
  {
   "cell_type": "code",
   "execution_count": 11,
   "metadata": {
    "collapsed": true
   },
   "outputs": [],
   "source": [
    "\n",
    "# loss function, optimizer 선언\n",
    "loss_func=nn.CrossEntropyLoss()\n",
    "optimizer=torch.optim.Adam(model.parameters(), lr=learning_rate)\n",
    "\n"
   ]
  },
  {
   "cell_type": "markdown",
   "metadata": {},
   "source": [
    "\n",
    "<h1 id=\"optimization\">optimization<a class=\"anchor-link\" href=\"#optimization\">¶</a></h1>\n"
   ]
  },
  {
   "cell_type": "code",
   "execution_count": 12,
   "metadata": {},
   "outputs": [
    {
     "name": "stdout",
     "output_type": "stream",
     "text": [
      "tensor(2.3310, grad_fn=<NllLossBackward0>) 0 0\n",
      "tensor(2.0715, grad_fn=<NllLossBackward0>) 50 0\n",
      "tensor(0.7724, grad_fn=<NllLossBackward0>) 0 1\n",
      "tensor(0.8786, grad_fn=<NllLossBackward0>) 50 1\n",
      "tensor(0.4833, grad_fn=<NllLossBackward0>) 0 2\n",
      "tensor(0.2755, grad_fn=<NllLossBackward0>) 50 2\n",
      "tensor(0.1979, grad_fn=<NllLossBackward0>) 0 3\n",
      "tensor(0.6825, grad_fn=<NllLossBackward0>) 50 3\n",
      "tensor(0.1595, grad_fn=<NllLossBackward0>) 0 4\n",
      "tensor(0.1681, grad_fn=<NllLossBackward0>) 50 4\n",
      "tensor(0.2609, grad_fn=<NllLossBackward0>) 0 5\n",
      "tensor(0.1493, grad_fn=<NllLossBackward0>) 50 5\n",
      "tensor(0.2537, grad_fn=<NllLossBackward0>) 0 6\n",
      "tensor(0.0716, grad_fn=<NllLossBackward0>) 50 6\n",
      "tensor(0.0222, grad_fn=<NllLossBackward0>) 0 7\n",
      "tensor(0.0671, grad_fn=<NllLossBackward0>) 50 7\n",
      "tensor(0.0167, grad_fn=<NllLossBackward0>) 0 8\n",
      "tensor(0.0936, grad_fn=<NllLossBackward0>) 50 8\n",
      "tensor(0.0441, grad_fn=<NllLossBackward0>) 0 9\n",
      "tensor(0.1286, grad_fn=<NllLossBackward0>) 50 9\n"
     ]
    }
   ],
   "source": [
    "\n",
    "for i in range(num_epoch):\n",
    "    for j,[image, label] in enumerate(train_loader): # batch_size 만큼\n",
    "        x=Variable(image)    #.cuda()\n",
    "        y_=Variable(label)  #.cuda()\n",
    "        \n",
    "        optimizer.zero_grad()\n",
    "        output=model.forward(x)\n",
    "        loss=loss_func(output,y_)\n",
    "        loss.backward()\n",
    "        optimizer.step()\n",
    "        \n",
    "        if j%50==0:\n",
    "            print(loss, j, i)\n",
    "\n"
   ]
  },
  {
   "cell_type": "code",
   "execution_count": 14,
   "metadata": {},
   "outputs": [],
   "source": [
    "\n",
    "# 모델 저장시키기\n",
    "torch.save(model, 'ML/mycnn_model_%d.pkl'%(num_epoch))\n",
    "\n"
   ]
  },
  {
   "cell_type": "code",
   "execution_count": 16,
   "metadata": {},
   "outputs": [
    {
     "name": "stdout",
     "output_type": "stream",
     "text": [
      "model restored\n"
     ]
    }
   ],
   "source": [
    "\n",
    "try:\n",
    "    # 미리 학습시킨 네트워크의 파라미터 집합 [피클]이라 발음함\n",
    "    model=torch.load('ML/mycnn_model_10.pkl')\n",
    "    print(\"model restored\")\n",
    "except:\n",
    "    print(\"model not restored\")\n",
    "\n"
   ]
  },
  {
   "cell_type": "code",
   "execution_count": 17,
   "metadata": {
    "collapsed": true
   },
   "outputs": [],
   "source": [
    "\n",
    "def ComputeAccr(dloader, imodel):\n",
    "    correct = 0\n",
    "    total = 0\n",
    "    \n",
    "    for j, [imgs, labels] in enumerate(dloader): # batch_size 만큼\n",
    "        img = Variable(imgs)   #.cuda() # x\n",
    "        label = Variable(labels) # y\n",
    "        #label = Variable(labels).cuda()\n",
    "        # .cuda() : GPU 에 로드되기 위함, 만약 CPU로 설정되 있다면 에러남\n",
    "        \n",
    "        ouput = imodel.forward(img) # forward prop.\n",
    "        _, output_index = torch.max(output, 1)\n",
    "        \n",
    "        total += label.size(0)\n",
    "        correct += (output_index == label).sum().float()\n",
    "    print(\"Accuracy of Test Data: {}\".format(100*correct/total))\n",
    "\n"
   ]
  },
  {
   "cell_type": "code",
   "execution_count": 18,
   "metadata": {},
   "outputs": [
    {
     "name": "stdout",
     "output_type": "stream",
     "text": [
      "Accuracy of Test Data: 10.489999771118164\n"
     ]
    }
   ],
   "source": [
    "\n",
    "ComputeAccr(test_loader, model)\n",
    "\n"
   ]
  },
  {
   "cell_type": "code",
   "execution_count": null,
   "metadata": {
    "collapsed": true
   },
   "outputs": [],
   "source": [
    "\n",
    " \n",
    "\n"
   ]
  }
 ],
 "metadata": {
  "kernelspec": {
   "display_name": "Python 3",
   "language": "python",
   "name": "python3"
  },
  "language_info": {
   "codemirror_mode": {
    "name": "ipython",
    "version": 3
   },
   "file_extension": ".py",
   "mimetype": "text/x-python",
   "name": "python",
   "nbconvert_exporter": "python",
   "pygments_lexer": "ipython3",
   "version": "3.6.3"
  }
 },
 "nbformat": 4,
 "nbformat_minor": 1
}
