{
  "nbformat": 4,
  "nbformat_minor": 0,
  "metadata": {
    "kernelspec": {
      "display_name": "conda_pytorch_p27",
      "language": "python",
      "name": "conda_pytorch_p27"
    },
    "language_info": {
      "codemirror_mode": {
        "name": "ipython",
        "version": 2
      },
      "file_extension": ".py",
      "mimetype": "text/x-python",
      "name": "python",
      "nbconvert_exporter": "python",
      "pygments_lexer": "ipython2",
      "version": "2.7.15"
    },
    "colab": {
      "name": "[실습04]심층신경망 훈련.ipynb",
      "provenance": [],
      "collapsed_sections": []
    },
    "accelerator": "GPU"
  },
  "cells": [
    {
      "cell_type": "markdown",
      "metadata": {
        "id": "TEyJFjNLLYZe"
      },
      "source": [
        "# CIFAR10 을 CNN 으로 학습하기. 여러 학습 방법으로 비교"
      ]
    },
    {
      "cell_type": "markdown",
      "metadata": {
        "id": "QQoxAlKz_wgw"
      },
      "source": [
        ""
      ]
    },
    {
      "cell_type": "code",
      "metadata": {
        "id": "jo9JvpFfLYZg"
      },
      "source": [
        "import numpy as np\n",
        "import torch\n",
        "import torch.nn as nn\n",
        "import torch.optim as optim\n",
        "import torch.nn.init as init\n",
        "import torchvision.datasets as dset\n",
        "import torchvision.transforms as transforms\n",
        "from torch.utils.data import DataLoader\n",
        "from torch.autograd import Variable\n",
        "import matplotlib.pyplot as plt\n",
        "\n",
        "#(7) learning rate decay\n",
        "#from torch.optim import lr_scheduler\n",
        "\n",
        "batch_size=16\n",
        "learning_rate=0.002\n",
        "num_epoch=10"
      ],
      "execution_count": null,
      "outputs": []
    },
    {
      "cell_type": "markdown",
      "metadata": {
        "id": "BkHR3Tt-LYZo"
      },
      "source": [
        "# 1. CIFAR10 train, test dataset 가져오기(163 MB)\n",
        "### MNIST: 11MB"
      ]
    },
    {
      "cell_type": "code",
      "metadata": {
        "id": "AJmGGOFvLYZp",
        "outputId": "dcded7d2-ddd2-455a-ff9f-77a391c61ece",
        "colab": {
          "base_uri": "https://localhost:8080/",
          "height": 52
        }
      },
      "source": [
        "#(0)\n",
        "#cifar_train=dset.CIFAR10(\"CIFAR10/\",train=True, transform=transforms.ToTensor(), target_transform=None, download=True)                        \n",
        "#cifar_test=dset.CIFAR10(\"CIFAR10/\", train=False, transform=transforms.ToTensor(), target_transform=None, download=True)\n",
        "\n",
        "# (2) Data augmentation\n",
        "#cifar_train=dset.CIFAR10(\"CIFAR10/\",train=True,\n",
        "#                       transform=transforms.Compose([\n",
        "#                            transforms.Scale(36),\n",
        "#                            transforms.CenterCrop(32),\n",
        "#                            transforms.RandomHorizontalFlip(),\n",
        "#                            transforms.Lambda(lambda x: x.rotate(90)),\n",
        "#                            transforms.ToTensor()\n",
        "#                        ]))\n",
        "\n",
        "#(4) Data Normalization\n",
        "cifar_train=dset.CIFAR10(\"CIFAR10/\",train=True,\n",
        "                         transform=transforms.Compose([\n",
        "                           transforms.ToTensor(),\n",
        "                           transforms.Normalize(mean=(0.5,0.5,0.5), std=(0.5,0.5,0.5))\n",
        "                         ])\n",
        "                         , target_transform=None, download=True)\n",
        "\n",
        "cifar_test=dset.CIFAR10(\"CIFAR10/\",train=False,\n",
        "                        transform=transforms.Compose([\n",
        "                          transforms.ToTensor(),\n",
        "                          transforms.Normalize(mean=(0.5,0.5,0.5), std=(0.5,0.5,0.5)),\n",
        "                        ])\n",
        "                        , target_transform=None, download=True)\n"
      ],
      "execution_count": null,
      "outputs": [
        {
          "output_type": "stream",
          "text": [
            "Files already downloaded and verified\n",
            "Files already downloaded and verified\n"
          ],
          "name": "stdout"
        }
      ]
    },
    {
      "cell_type": "markdown",
      "metadata": {
        "id": "TIVcqXQwLYZx"
      },
      "source": [
        "# 2. 대략적인 데이터 형태"
      ]
    },
    {
      "cell_type": "code",
      "metadata": {
        "id": "NrpxbjjqLYZy",
        "outputId": "182cde77-221f-4274-c6db-212e5c3483ec",
        "colab": {
          "base_uri": "https://localhost:8080/",
          "height": 369
        }
      },
      "source": [
        "print (\"cifar_train 길이: \", len(cifar_train))\n",
        "print (\"cifar_test 길이: \", len(cifar_test))\n",
        "\n",
        "#데이터 하나 형태\n",
        "image, label = cifar_train.__getitem__(1) # 1번째 데이터\n",
        "print (\"image data 형태: \", image.size())\n",
        "print (\"label: \" , label)\n",
        "\n",
        "#그리기\n",
        "img = image.numpy() # image 타입을 numpy 로 변환 (3,32,32)\n",
        "\n",
        "# (3, 32, 32) -> (32, 32, 3)\n",
        "r,g,b = img[0,:,:], img[1,:,:], img[2,:,:]\n",
        "#img = img.reshape(img.shape[1], img.shape[2], img.shape[0])\n",
        "img2 = np.zeros((img.shape[1],img.shape[2],img.shape[0]))\n",
        "img2[:,:,0], img2[:,:,1], img2[:,:,2] = r,g,b\n",
        "\n",
        "plt.title(\"label: %d \" %label )\n",
        "plt.imshow(img2, interpolation='bicubic')\n",
        "plt.show()"
      ],
      "execution_count": null,
      "outputs": [
        {
          "output_type": "stream",
          "text": [
            "Clipping input data to the valid range for imshow with RGB data ([0..1] for floats or [0..255] for integers).\n"
          ],
          "name": "stderr"
        },
        {
          "output_type": "stream",
          "text": [
            "cifar_train 길이:  50000\n",
            "cifar_test 길이:  10000\n",
            "image data 형태:  torch.Size([3, 32, 32])\n",
            "label:  9\n"
          ],
          "name": "stdout"
        },
        {
          "output_type": "display_data",
          "data": {
            "image/png": "[encoded data removed]",
            "text/plain": [
              "<Figure size 432x288 with 1 Axes>"
            ]
          },
          "metadata": {
            "tags": [],
            "needs_background": "light"
          }
        }
      ]
    },
    {
      "cell_type": "code",
      "metadata": {
        "id": "HNecKpHhLYZ4"
      },
      "source": [
        "def ComputeAccr(dloader, imodel):\n",
        "    correct = 0\n",
        "    total = 0\n",
        "    \n",
        "    for j, [imgs, labels] in enumerate(dloader): # batch_size 만큼\n",
        "        with torch.no_grad():\n",
        "          img = imgs.cuda()\n",
        "        #img = Variable(imgs,volatile=True).cuda() # x\n",
        "        #label = Variable(labels) # y\n",
        "        with torch.no_grad():\n",
        "          label=labels.cuda()\n",
        "        #label = Variable(labels).cuda()\n",
        "        # .cuda() : GPU 에 로드되기 위함, 만약 CPU로 설정되 있다면 에러남\n",
        "        \n",
        "        ouput = imodel.forward(img) # forward prop.\n",
        "        _, output_index = torch.max(output, 1)\n",
        "        \n",
        "        total += label.size(0)\n",
        "        correct += (output_index == label).sum().float()\n",
        "    print(\"Accuracy of Test Data: {}\".format(100*correct/total))"
      ],
      "execution_count": null,
      "outputs": []
    },
    {
      "cell_type": "code",
      "metadata": {
        "id": "0lUyoD03LYZ-"
      },
      "source": [
        "# === 3. 데이터 로드함수 ===\n",
        "train_loader=torch.utils.data.DataLoader(list(cifar_train)[:], batch_size=batch_size, shuffle=True, num_workers=2, drop_last=True)\n",
        "test_loader=torch.utils.data.DataLoader(cifar_test, batch_size=batch_size, shuffle=False, num_workers=2, drop_last=True)\n",
        "\n",
        "# === 4.모델 선언 ===\n",
        "class CNN(nn.Module):\n",
        "    def __init__(self):\n",
        "        super(CNN,self).__init__()\n",
        "        self.layer=nn.Sequential(\n",
        "            nn.Conv2d(3,16,3,padding=1),\n",
        "            #nn.ReLU(),\n",
        "            #nn.Dropout2d(0.2),  #(1) drop out\n",
        "            nn.BatchNorm2d(16), #(5) Batch normalization\n",
        "            nn.ReLU(),\n",
        "            nn.Conv2d(16,32,3,padding=1),\n",
        "            #nn.ReLU(),\n",
        "            #nn.Dropout2d(0.2),\n",
        "            nn.BatchNorm2d(32),\n",
        "            nn.ReLU(),\n",
        "            nn.MaxPool2d(2,2),\n",
        "            nn.Conv2d(32,64,3,padding=1),\n",
        "            #nn.ReLU(),\n",
        "            #nn.Dropout2d(0.2),\n",
        "            nn.BatchNorm2d(64),\n",
        "            nn.ReLU(),\n",
        "            nn.MaxPool2d(2,2)\n",
        "        )\n",
        "        self.fc_layer=nn.Sequential(\n",
        "            nn.Linear(64*8*8,100),\n",
        "            #nn.ReLU(),\n",
        "            #nn.Dropout2d(0.2),\n",
        "            nn.BatchNorm1d(100),\n",
        "            nn.ReLU(),\n",
        "            nn.Linear(100,10)\n",
        "        )\n",
        "        \n",
        "    # (3) weight initialization\n",
        "    #    for m in self.modules():\n",
        "    #        if isinstance(m,nn.Conv2d):\n",
        "    #            init.kaiming_normal(m.weight.data) # ReLU 일 떄\n",
        "    #            m.bias.data.fill_(0)\n",
        "    #        if isinstance(m,nn.Linear):\n",
        "    #            init.kaiming_normal(m.weight.data)\n",
        "    #            m.bias.data.fill_(0)\n",
        "        \n",
        "    def forward(self,x):\n",
        "        out=self.layer(x)\n",
        "        out=out.view(batch_size,-1)\n",
        "        out=self.fc_layer(out)\n",
        "        \n",
        "        return out\n",
        "\n",
        "model=CNN().cuda()"
      ],
      "execution_count": null,
      "outputs": []
    },
    {
      "cell_type": "code",
      "metadata": {
        "id": "Lhs-l-kuLYaE",
        "outputId": "984408c8-2835-4bc8-f563-30d42e69b315",
        "colab": {
          "base_uri": "https://localhost:8080/",
          "height": 721
        }
      },
      "source": [
        "# === 5. loss, optimizer ===\n",
        "loss_func=nn.CrossEntropyLoss()\n",
        "#optimizer= torch.optim.SGD(model.parameters(), lr=learning_rate)\n",
        "optimizer=torch.optim.Adam(model.parameters(), lr=learning_rate) # (6) Adam optimizer\n",
        "\n",
        "#scheduler = lr_scheduler.StepLR(optimizer, step_size=20, gamma=0.2) # (7) learning rate decay\n",
        "\n",
        "model.train() # train mode 로 바꾸기 -> dropout, batch nomalozation 에 영향을 줌.\n",
        "\n",
        "# === 6. 학습 ===\n",
        "for i in range(num_epoch):\n",
        "    for j,[image, label] in enumerate(train_loader):\n",
        "        with torch.no_grad():\n",
        "          x= image.cuda()\n",
        "        #x=Variable(image).cuda()\n",
        "        with torch.no_grad():\n",
        "          y_= label.cuda()\n",
        "        #y_=Variable(label).cuda()\n",
        "        \n",
        "        optimizer.zero_grad()\n",
        "        output=model.forward(x)\n",
        "        loss=loss_func(output,y_)\n",
        "        loss.backward()\n",
        "        optimizer.step()\n",
        "        \n",
        "        if j%1000==0:\n",
        "            print(j,loss)"
      ],
      "execution_count": null,
      "outputs": [
        {
          "output_type": "stream",
          "text": [
            "0 tensor(2.3386, device='cuda:0', grad_fn=<NllLossBackward>)\n",
            "1000 tensor(0.8684, device='cuda:0', grad_fn=<NllLossBackward>)\n",
            "2000 tensor(1.0643, device='cuda:0', grad_fn=<NllLossBackward>)\n",
            "3000 tensor(1.0513, device='cuda:0', grad_fn=<NllLossBackward>)\n",
            "0 tensor(0.8306, device='cuda:0', grad_fn=<NllLossBackward>)\n",
            "1000 tensor(0.6321, device='cuda:0', grad_fn=<NllLossBackward>)\n",
            "2000 tensor(0.5641, device='cuda:0', grad_fn=<NllLossBackward>)\n",
            "3000 tensor(0.9980, device='cuda:0', grad_fn=<NllLossBackward>)\n",
            "0 tensor(1.0592, device='cuda:0', grad_fn=<NllLossBackward>)\n",
            "1000 tensor(0.2336, device='cuda:0', grad_fn=<NllLossBackward>)\n",
            "2000 tensor(0.5360, device='cuda:0', grad_fn=<NllLossBackward>)\n",
            "3000 tensor(0.7924, device='cuda:0', grad_fn=<NllLossBackward>)\n",
            "0 tensor(0.4252, device='cuda:0', grad_fn=<NllLossBackward>)\n",
            "1000 tensor(0.7895, device='cuda:0', grad_fn=<NllLossBackward>)\n",
            "2000 tensor(0.9184, device='cuda:0', grad_fn=<NllLossBackward>)\n",
            "3000 tensor(0.4936, device='cuda:0', grad_fn=<NllLossBackward>)\n",
            "0 tensor(0.8576, device='cuda:0', grad_fn=<NllLossBackward>)\n",
            "1000 tensor(0.8422, device='cuda:0', grad_fn=<NllLossBackward>)\n",
            "2000 tensor(0.3506, device='cuda:0', grad_fn=<NllLossBackward>)\n",
            "3000 tensor(0.9367, device='cuda:0', grad_fn=<NllLossBackward>)\n",
            "0 tensor(0.2738, device='cuda:0', grad_fn=<NllLossBackward>)\n",
            "1000 tensor(0.2577, device='cuda:0', grad_fn=<NllLossBackward>)\n",
            "2000 tensor(0.1880, device='cuda:0', grad_fn=<NllLossBackward>)\n",
            "3000 tensor(0.6314, device='cuda:0', grad_fn=<NllLossBackward>)\n",
            "0 tensor(0.3855, device='cuda:0', grad_fn=<NllLossBackward>)\n",
            "1000 tensor(0.2372, device='cuda:0', grad_fn=<NllLossBackward>)\n",
            "2000 tensor(0.2503, device='cuda:0', grad_fn=<NllLossBackward>)\n",
            "3000 tensor(0.6109, device='cuda:0', grad_fn=<NllLossBackward>)\n",
            "0 tensor(0.1298, device='cuda:0', grad_fn=<NllLossBackward>)\n",
            "1000 tensor(0.2509, device='cuda:0', grad_fn=<NllLossBackward>)\n",
            "2000 tensor(0.1611, device='cuda:0', grad_fn=<NllLossBackward>)\n",
            "3000 tensor(0.1993, device='cuda:0', grad_fn=<NllLossBackward>)\n",
            "0 tensor(0.0729, device='cuda:0', grad_fn=<NllLossBackward>)\n",
            "1000 tensor(0.1639, device='cuda:0', grad_fn=<NllLossBackward>)\n",
            "2000 tensor(0.4995, device='cuda:0', grad_fn=<NllLossBackward>)\n",
            "3000 tensor(0.4453, device='cuda:0', grad_fn=<NllLossBackward>)\n",
            "0 tensor(0.2044, device='cuda:0', grad_fn=<NllLossBackward>)\n",
            "1000 tensor(0.0997, device='cuda:0', grad_fn=<NllLossBackward>)\n",
            "2000 tensor(0.4792, device='cuda:0', grad_fn=<NllLossBackward>)\n",
            "3000 tensor(0.0950, device='cuda:0', grad_fn=<NllLossBackward>)\n"
          ],
          "name": "stdout"
        }
      ]
    },
    {
      "cell_type": "markdown",
      "metadata": {
        "id": "LA9Ki26EO6Sg"
      },
      "source": [
        "# 1st Try (ReLU, Data Nomalization , Drop out, SGD, BS = 16Epoch = 1, LR=0.002)"
      ]
    },
    {
      "cell_type": "code",
      "metadata": {
        "id": "9p7mCI4JOw4C",
        "outputId": "298eb879-4c44-461b-e40f-6de7787f2a7e",
        "colab": {
          "base_uri": "https://localhost:8080/",
          "height": 34
        }
      },
      "source": [
        "model.eval() #elvaluation(test) mode 로 바꾸기 -> dropout, batch nomalization 에 영향을 줌.\n",
        "ComputeAccr(test_loader, model)"
      ],
      "execution_count": null,
      "outputs": [
        {
          "output_type": "stream",
          "text": [
            "Accuracy of Test Data: 10.1899995803833\n"
          ],
          "name": "stdout"
        }
      ]
    },
    {
      "cell_type": "markdown",
      "metadata": {
        "id": "42As_Ht9aExD"
      },
      "source": [
        "# 2nd Try (ELU, Data Nomalization , Drop out, SGD, BS = 16Epoch = 1, LR=0.002)"
      ]
    },
    {
      "cell_type": "code",
      "metadata": {
        "id": "Y-60Oid9PBMX",
        "outputId": "85bd7a9b-1bfc-42cd-9571-71f0906bf0b6",
        "colab": {
          "base_uri": "https://localhost:8080/",
          "height": 34
        }
      },
      "source": [
        "model.eval() #elvaluation(test) mode 로 바꾸기 -> dropout, batch nomalization 에 영향을 줌.\n",
        "ComputeAccr(test_loader, model)"
      ],
      "execution_count": null,
      "outputs": [
        {
          "output_type": "stream",
          "text": [
            "Accuracy of Test Data: 10.119999885559082\n"
          ],
          "name": "stdout"
        }
      ]
    },
    {
      "cell_type": "markdown",
      "metadata": {
        "id": "1L-qN7YinYge"
      },
      "source": [
        "# 3rd Try (ReLU, Data Nomalization , Drop out, Adam, BS = 16Epoch = 1, LR=0.002)"
      ]
    },
    {
      "cell_type": "code",
      "metadata": {
        "id": "dqH0gKRNnZL7",
        "outputId": "722c26cc-73ef-4edd-b4e9-e7d3663ba931",
        "colab": {
          "base_uri": "https://localhost:8080/",
          "height": 34
        }
      },
      "source": [
        "model.eval() #elvaluation(test) mode 로 바꾸기 -> dropout, batch nomalization 에 영향을 줌.\n",
        "ComputeAccr(test_loader, model)"
      ],
      "execution_count": null,
      "outputs": [
        {
          "output_type": "stream",
          "text": [
            "Accuracy of Test Data: 9.9399995803833\n"
          ],
          "name": "stdout"
        }
      ]
    },
    {
      "cell_type": "markdown",
      "metadata": {
        "id": "WbbYilwls8-t"
      },
      "source": [
        "# 4th Try (ReLU, Batch Nomalization, Drop out, Adam, BS = 16, Epoch = 1, LR=0.002)"
      ]
    },
    {
      "cell_type": "code",
      "metadata": {
        "id": "RGcRWclLs90a",
        "outputId": "2ba0b79b-a101-461a-ca62-ed6b12adc13c",
        "colab": {
          "base_uri": "https://localhost:8080/",
          "height": 34
        }
      },
      "source": [
        "model.eval() #elvaluation(test) mode 로 바꾸기 -> dropout, batch nomalization 에 영향을 줌.\n",
        "ComputeAccr(test_loader, model)"
      ],
      "execution_count": null,
      "outputs": [
        {
          "output_type": "stream",
          "text": [
            "Accuracy of Test Data: 10.050000190734863\n"
          ],
          "name": "stdout"
        }
      ]
    },
    {
      "cell_type": "markdown",
      "metadata": {
        "id": "z9G3m5nbYS4F"
      },
      "source": [
        "# 5th Try (ReLU, Batch Nomalization, Drop out(0.1), Adam, BS = 64, Epoch = 5, LR=0.002)"
      ]
    },
    {
      "cell_type": "code",
      "metadata": {
        "id": "QFpqYEq3YTVW",
        "colab": {
          "base_uri": "https://localhost:8080/",
          "height": 34
        },
        "outputId": "37e0ae44-96ce-4cdd-888b-e064771675b4"
      },
      "source": [
        "model.eval() #elvaluation(test) mode 로 바꾸기 -> dropout, batch nomalization 에 영향을 줌.\n",
        "ComputeAccr(test_loader, model)"
      ],
      "execution_count": null,
      "outputs": [
        {
          "output_type": "stream",
          "text": [
            "Accuracy of Test Data: 10.386618614196777\n"
          ],
          "name": "stdout"
        }
      ]
    },
    {
      "cell_type": "markdown",
      "metadata": {
        "id": "_teezcdXXH1s"
      },
      "source": [
        "# 6th Try (ReLU, Batch Nomalization, Drop out, Adam, BS = 64, Epoch = 5, LR=0.002)\n"
      ]
    },
    {
      "cell_type": "code",
      "metadata": {
        "id": "0lMZUwTvXKvH",
        "colab": {
          "base_uri": "https://localhost:8080/",
          "height": 34
        },
        "outputId": "4a254955-77fd-420c-f9a5-ebd26b050d88"
      },
      "source": [
        "model.eval() #elvaluation(test) mode 로 바꾸기 -> dropout, batch nomalization 에 영향을 줌.\n",
        "ComputeAccr(test_loader, model)"
      ],
      "execution_count": null,
      "outputs": [
        {
          "output_type": "stream",
          "text": [
            "Accuracy of Test Data: 10.576923370361328\n"
          ],
          "name": "stdout"
        }
      ]
    },
    {
      "cell_type": "markdown",
      "metadata": {
        "id": "oQpwPjbrYu-s"
      },
      "source": [
        "# 7th Try (ReLU, Batch Nomalization, Drop out, Adam, BS = 64, Epoch = 10, LR=0.002, more layer)\n"
      ]
    },
    {
      "cell_type": "code",
      "metadata": {
        "id": "KCFon6jQYvbt",
        "colab": {
          "base_uri": "https://localhost:8080/",
          "height": 34
        },
        "outputId": "443ee0de-2d92-4d9a-ef79-984cb9783540"
      },
      "source": [
        "model.eval() #elvaluation(test) mode 로 바꾸기 -> dropout, batch nomalization 에 영향을 줌.\n",
        "ComputeAccr(test_loader, model)"
      ],
      "execution_count": null,
      "outputs": [
        {
          "output_type": "stream",
          "text": [
            "Accuracy of Test Data: 9.405048370361328\n"
          ],
          "name": "stdout"
        }
      ]
    },
    {
      "cell_type": "markdown",
      "metadata": {
        "id": "H11Tena1dCek"
      },
      "source": [
        "# 8th Try (ReLU, Data Nomalization, Drop out, Learning rate scheduling, BS = 64, Epoch = 40, LR=0.002)\n"
      ]
    },
    {
      "cell_type": "code",
      "metadata": {
        "id": "S_RwutuGdDLg",
        "colab": {
          "base_uri": "https://localhost:8080/",
          "height": 34
        },
        "outputId": "8c86841a-b052-40cc-cad8-026c41999664"
      },
      "source": [
        "model.eval() #elvaluation(test) mode 로 바꾸기 -> dropout, batch nomalization 에 영향을 줌.\n",
        "ComputeAccr(test_loader, model)"
      ],
      "execution_count": null,
      "outputs": [
        {
          "output_type": "stream",
          "text": [
            "Accuracy of Test Data: 9.985978126525879\n"
          ],
          "name": "stdout"
        }
      ]
    },
    {
      "cell_type": "markdown",
      "metadata": {
        "id": "-6u6avexLYaK"
      },
      "source": [
        "# (0) Naive Test"
      ]
    },
    {
      "cell_type": "code",
      "metadata": {
        "id": "MHrHBbjKLYaL",
        "outputId": "283e66d3-351d-4a6a-f96c-88518c0c25e7",
        "colab": {
          "base_uri": "https://localhost:8080/",
          "height": 34
        }
      },
      "source": [
        "model.eval() #elvaluation(test) mode 로 바꾸기 -> dropout, batch nomalization 에 영향을 줌.\n",
        "ComputeAccr(test_loader, model)"
      ],
      "execution_count": null,
      "outputs": [
        {
          "output_type": "stream",
          "text": [
            "Accuracy of Test Data: 10.256410598754883\n"
          ],
          "name": "stdout"
        }
      ]
    },
    {
      "cell_type": "markdown",
      "metadata": {
        "id": "j1YAGyWbLYaR"
      },
      "source": [
        "# 9th Try (ReLU, Data Nomalization, Drop out, Learning rate scheduling, BS = 16, Epoch = 40, LR=0.002)\n"
      ]
    },
    {
      "cell_type": "code",
      "metadata": {
        "id": "-GtsIL47LYaS",
        "outputId": "66fce35b-19a1-452f-cc74-13588d2f3923",
        "colab": {
          "base_uri": "https://localhost:8080/",
          "height": 34
        }
      },
      "source": [
        "model.eval() #elvaluation(test) mode 로 바꾸기 -> dropout, batch nomalization 에 영향을 줌.\n",
        "ComputeAccr(test_loader, model)"
      ],
      "execution_count": null,
      "outputs": [
        {
          "output_type": "stream",
          "text": [
            "Accuracy of Test Data: 10.25999927520752\n"
          ],
          "name": "stdout"
        }
      ]
    },
    {
      "cell_type": "markdown",
      "metadata": {
        "id": "XFL_DcjCLYaX"
      },
      "source": [
        "# 10th Try (LeakyReLU, Batch Nomalization, Adam, BS = 16, Epoch = 40, LR=0.001)\n"
      ]
    },
    {
      "cell_type": "code",
      "metadata": {
        "id": "b24s1UL7LYaY",
        "outputId": "a5a34da0-4fb1-40db-c1b2-b74169fa079a",
        "colab": {
          "base_uri": "https://localhost:8080/",
          "height": 34
        }
      },
      "source": [
        "model.eval() #elvaluation(test) mode 로 바꾸기 -> dropout, batch nomalization 에 영향을 줌.\n",
        "ComputeAccr(test_loader, model)"
      ],
      "execution_count": null,
      "outputs": [
        {
          "output_type": "stream",
          "text": [
            "Accuracy of Test Data: 10.239999771118164\n"
          ],
          "name": "stdout"
        }
      ]
    },
    {
      "cell_type": "markdown",
      "metadata": {
        "id": "cBpEorzFLYad"
      },
      "source": [
        "# (3) weight initialization"
      ]
    },
    {
      "cell_type": "code",
      "metadata": {
        "id": "CmBPtlMnLYae",
        "outputId": "cd57aeea-1fb7-4729-c284-3603c655b915",
        "colab": {
          "base_uri": "https://localhost:8080/",
          "height": 34
        }
      },
      "source": [
        "model.eval() #elvaluation(test) mode 로 바꾸기 -> dropout, batch nomalization 에 영향을 줌.\n",
        "ComputeAccr(test_loader, model)"
      ],
      "execution_count": null,
      "outputs": [
        {
          "output_type": "stream",
          "text": [
            "Accuracy of Test Data: 9.90999984741211\n"
          ],
          "name": "stdout"
        }
      ]
    },
    {
      "cell_type": "markdown",
      "metadata": {
        "id": "aq9YCF0QLYan"
      },
      "source": [
        "# (4) Data Normalization"
      ]
    },
    {
      "cell_type": "code",
      "metadata": {
        "id": "PtuNxxvRLYao",
        "outputId": "1e44a777-b759-43fe-c272-663e6717f171",
        "colab": {
          "base_uri": "https://localhost:8080/",
          "height": 70
        }
      },
      "source": [
        "ComputeAccr(test_loader,model)"
      ],
      "execution_count": null,
      "outputs": [
        {
          "output_type": "stream",
          "text": [
            "/usr/local/lib/python3.6/dist-packages/ipykernel_launcher.py:6: UserWarning: volatile was removed and now has no effect. Use `with torch.no_grad():` instead.\n",
            "  \n"
          ],
          "name": "stderr"
        },
        {
          "output_type": "stream",
          "text": [
            "Accuracy of Test Data: 9.9399995803833\n"
          ],
          "name": "stdout"
        }
      ]
    },
    {
      "cell_type": "markdown",
      "metadata": {
        "id": "fnGAFFUULYas"
      },
      "source": [
        "# (5) Batch normalization"
      ]
    },
    {
      "cell_type": "code",
      "metadata": {
        "id": "DsfzrAahLYat"
      },
      "source": [
        "ComputeAccr(test_loader,model)"
      ],
      "execution_count": null,
      "outputs": []
    },
    {
      "cell_type": "markdown",
      "metadata": {
        "id": "SiCbQDEfLYax"
      },
      "source": [
        "# (6) Adam optimizer"
      ]
    },
    {
      "cell_type": "code",
      "metadata": {
        "id": "BBv0HFIiLYay",
        "outputId": "9a4972bc-fc2b-44ab-afa1-3401e753eb5c",
        "colab": {
          "base_uri": "https://localhost:8080/",
          "height": 70
        }
      },
      "source": [
        "ComputeAccr(test_loader,model)"
      ],
      "execution_count": null,
      "outputs": [
        {
          "output_type": "stream",
          "text": [
            "/usr/local/lib/python3.6/dist-packages/ipykernel_launcher.py:6: UserWarning: volatile was removed and now has no effect. Use `with torch.no_grad():` instead.\n",
            "  \n"
          ],
          "name": "stderr"
        },
        {
          "output_type": "stream",
          "text": [
            "Accuracy of Test Data: 10.039999961853027\n"
          ],
          "name": "stdout"
        }
      ]
    },
    {
      "cell_type": "markdown",
      "metadata": {
        "id": "_cMUZNeBLYa2"
      },
      "source": [
        "# (7) learning rate decay)"
      ]
    },
    {
      "cell_type": "code",
      "metadata": {
        "id": "m6-_snrHLYa3",
        "outputId": "430d24d6-7d79-40df-8141-3c62cc9e1ef6",
        "colab": {
          "base_uri": "https://localhost:8080/",
          "height": 70
        }
      },
      "source": [
        "ComputeAccr(test_loader,model)"
      ],
      "execution_count": null,
      "outputs": [
        {
          "output_type": "stream",
          "text": [
            "/usr/local/lib/python3.6/dist-packages/ipykernel_launcher.py:6: UserWarning: volatile was removed and now has no effect. Use `with torch.no_grad():` instead.\n",
            "  \n"
          ],
          "name": "stderr"
        },
        {
          "output_type": "stream",
          "text": [
            "Accuracy of Test Data: 9.899999618530273\n"
          ],
          "name": "stdout"
        }
      ]
    },
    {
      "cell_type": "code",
      "metadata": {
        "id": "R2BRpMWSaKSI"
      },
      "source": [
        ""
      ],
      "execution_count": null,
      "outputs": []
    }
  ]
}